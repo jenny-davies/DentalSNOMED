{
 "cells": [
  {
   "cell_type": "code",
   "execution_count": 22,
   "metadata": {},
   "outputs": [],
   "source": [
    "# load in libraries\n",
    "from bs4 import BeautifulSoup\n",
    "import requests\n",
    "import re\n",
    "import csv"
   ]
  },
  {
   "cell_type": "code",
   "execution_count": 7,
   "metadata": {},
   "outputs": [],
   "source": [
    "url = 'https://www.nhsbsa.nhs.uk/provider-assurance-dental-pad/clinical-services/snomed-ct'"
   ]
  },
  {
   "cell_type": "code",
   "execution_count": 11,
   "metadata": {},
   "outputs": [],
   "source": [
    "# scrape whole page HTML\n",
    "page = requests.get(url)\n",
    "\n",
    "html_document = page.text\n",
    "\n",
    "soup = BeautifulSoup(html_document, 'html.parser')"
   ]
  },
  {
   "cell_type": "code",
   "execution_count": 20,
   "metadata": {},
   "outputs": [
    {
     "data": {
      "text/plain": [
       "['/sites/default/files/2021-07/DENT_ORAL_SURG_1.1_ClusterMembers_SCT_MIBO_20190315165859.txt',\n",
       " '/sites/default/files/2023-04/DENT_PROCEDURES_1.1_ClusterMembers_SCT_MIBO_20190315164425.txt',\n",
       " '/sites/default/files/2023-04/DENT_PROCEDURES_BY_TOOTH_1.1_ClusterMembers_SCT_MIBO_20190315163708.txt',\n",
       " '/sites/default/files/2021-07/DENT_TOOTH_DECID_1.1_ClusterMembers_SCT_MIBO_20190315161152.txt',\n",
       " '/sites/default/files/2021-07/DENT_TOOTH_PERM_1.1_ClusterMembers_SCT_MIBO_20190315162221.txt',\n",
       " '/sites/default/files/2021-07/DENT_TOOTH_SUPER_1.1_ClusterMembers_SCT_MIBO_20190315162700.txt',\n",
       " '/sites/default/files/2021-07/DENT_TOOTH_SURFACE_1.1_ClusterMembers_SCT_MIBO_20190315163329.txt']"
      ]
     },
     "execution_count": 20,
     "metadata": {},
     "output_type": "execute_result"
    }
   ],
   "source": [
    "# find links to files (attribute starting href)\n",
    "links = []\n",
    "\n",
    "for link in soup.find_all('a', \n",
    "                          attrs = {'href': re.compile(\"^/sites\")}):\n",
    "        new = link.get('href')\n",
    "        links.append(new)\n",
    "\n",
    "links"
   ]
  },
  {
   "cell_type": "code",
   "execution_count": 23,
   "metadata": {},
   "outputs": [],
   "source": [
    "# write csv containing urls extracted\n",
    "with open('url.csv', 'w') as file:\n",
    "    write = csv.writer(file)\n",
    "    write.writerow(links)"
   ]
  }
 ],
 "metadata": {
  "kernelspec": {
   "display_name": "Python 3",
   "language": "python",
   "name": "python3"
  },
  "language_info": {
   "codemirror_mode": {
    "name": "ipython",
    "version": 3
   },
   "file_extension": ".py",
   "mimetype": "text/x-python",
   "name": "python",
   "nbconvert_exporter": "python",
   "pygments_lexer": "ipython3",
   "version": "3.7.3"
  }
 },
 "nbformat": 4,
 "nbformat_minor": 2
}
