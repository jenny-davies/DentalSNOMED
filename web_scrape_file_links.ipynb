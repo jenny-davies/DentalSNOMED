{
 "cells": [
  {
   "cell_type": "code",
   "execution_count": 22,
   "metadata": {},
   "outputs": [],
   "source": [
    "# load in libraries\n",
    "from bs4 import BeautifulSoup\n",
    "import requests\n",
    "import csv"
   ]
  },
  {
   "cell_type": "code",
   "execution_count": 7,
   "metadata": {},
   "outputs": [],
   "source": [
    "# scrape whole page HTML\n",
    "url = 'https://www.nhsbsa.nhs.uk/provider-assurance-dental-pad/clinical-services/snomed-ct'\n",
    "page = requests.get(url).text"
   ]
  },
  {
   "cell_type": "code",
   "execution_count": 11,
   "metadata": {},
   "outputs": [],
   "source": [
    "# find links to SNOMED files\n",
    "content = BeautifulSoup(page)\n",
    "all_links = [link['href'] for link in content.find_all('a', href = True)]\n",
    "snomed_links = [link for link in all_links if '/sites/' in link]"
   ]
  },
  {
   "cell_type": "code",
   "execution_count": 20,
   "metadata": {},
   "source": [
    "# add start of link to each link\n",
    "add = 'https://www.nhsbsa.nhs.uk'\n",
    "final_snomed_links = [add + link for link in snomed_links]"
   ]
  },
  {
   "cell_type": "code",
   "execution_count": 23,
   "metadata": {},
   "outputs": [],
   "source": [
    "# write csv containing urls extracted\n",
    "with open('url.csv', 'w') as file:\n",
    "    write = csv.writer(file)\n",
    "    write.writerow(links)"
   ]
  }
 ],
 "metadata": {
  "kernelspec": {
   "display_name": "Python 3",
   "language": "python",
   "name": "python3"
  },
  "language_info": {
   "codemirror_mode": {
    "name": "ipython",
    "version": 3
   },
   "file_extension": ".py",
   "mimetype": "text/x-python",
   "name": "python",
   "nbconvert_exporter": "python",
   "pygments_lexer": "ipython3",
   "version": "3.7.3"
  }
 },
 "nbformat": 4,
 "nbformat_minor": 2
}
